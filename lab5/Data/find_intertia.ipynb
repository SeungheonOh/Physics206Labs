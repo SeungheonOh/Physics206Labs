{
 "cells": [
  {
   "cell_type": "code",
   "execution_count": null,
   "metadata": {},
   "outputs": [],
   "source": [
    "import numpy as np \n",
    "from matplotlib import pyplot as plt\n",
    "import pandas \n",
    "import math\n",
    "\n",
    "if not 'CSV_INPUT' in locals():\n",
    "    raise Exception(\"Set `CSV_INPUT` variable\")"
   ]
  },
  {
   "cell_type": "code",
   "execution_count": null,
   "metadata": {},
   "outputs": [],
   "source": [
    "data = pandas.read_csv(CSV_INPUT)\n",
    "\n",
    "data[[\"rx-hotpink\", \"ry-hotpink\", \"rx-lightorange\", \"ry-lightorange\", \"rx-green\", \"ry-green\"]] /= 100\n",
    "\n",
    "plt.figure(figsize=(8, 8), dpi=80)\n",
    "plt.plot(data[\"rx-hotpink\"], -1 * data[\"ry-hotpink\"])\n",
    "plt.plot(data[\"rx-lightorange\"], -1 * data[\"ry-lightorange\"])\n",
    "plt.plot(data[\"rx-green\"], -1 * data[\"ry-green\"])\n",
    "plt.title(\"Raw position path\")"
   ]
  },
  {
   "cell_type": "markdown",
   "metadata": {},
   "source": [
    "Raw positions plotted into one graph. Positions of light orange marker(the weight) is not consistent as tracking program was capturing incorrect possition when it was being dropped. "
   ]
  },
  {
   "cell_type": "code",
   "execution_count": null,
   "metadata": {},
   "outputs": [],
   "source": [
    "DROP_FRAME_AMOUNT=50\n",
    "SAMPLE_FRAME_AMOUNT=60\n",
    "\n",
    "weightDroppedFrame = data[\"rx-lightorange\"].first_valid_index()\n",
    "\n",
    "before = data[:weightDroppedFrame][-SAMPLE_FRAME_AMOUNT:].loc[:]\n",
    "after = data[weightDroppedFrame + DROP_FRAME_AMOUNT:-DROP_FRAME_AMOUNT].loc[:]\n",
    "\n",
    "fig, axs = plt.subplots(nrows=1, ncols=2, figsize=(10, 5))\n",
    "axs[0].plot(before[\"rx-hotpink\"], -1 * before[\"ry-hotpink\"])\n",
    "axs[0].plot(before[\"rx-lightorange\"], -1 * before[\"ry-lightorange\"])\n",
    "axs[0].plot(before[\"rx-green\"], -1 * before[\"ry-green\"])\n",
    "axs[0].set_title(\"Truncated position path before adding weight\")\n",
    "axs[1].plot(after[\"rx-hotpink\"], -1 * after[\"ry-hotpink\"])\n",
    "axs[1].plot(after[\"rx-lightorange\"], -1 * after[\"ry-lightorange\"])\n",
    "axs[1].plot(after[\"rx-green\"], -1 * after[\"ry-green\"])\n",
    "axs[1].set_title(\"Truncated position path after adding weight\")"
   ]
  },
  {
   "cell_type": "markdown",
   "metadata": {},
   "source": [
    "Nice and clean now!\n",
    "\n",
    "Now find center, interia of mass, and more"
   ]
  },
  {
   "cell_type": "code",
   "execution_count": null,
   "metadata": {},
   "outputs": [],
   "source": [
    "def distance(a, b):\n",
    "    return math.sqrt(np.sum(np.square(np.array(a) - np.array(b))))\n",
    "\n",
    "def uncertainty(a):\n",
    "    return np.std(a) / math.sqrt(len(a))\n",
    "\n",
    "I_l = 9.7 * 10 ** -4\n",
    "m_weight = 20 / 1000\n",
    "\n",
    "center = np.average(data[\"rx-green\"].dropna()), np.average(data[\"ry-green\"].dropna())\n",
    "center_x, center_y = np.average(data[\"rx-green\"].dropna()), np.average(data[\"ry-green\"].dropna())\n",
    "\n",
    "before[\"r_l\"] = np.sqrt((before[\"rx-hotpink\"] - center_x) ** 2 + (before[\"ry-hotpink\"] - center_y) ** 2)\n",
    "after[\"r_l\"] = np.sqrt((after[\"rx-hotpink\"] - center_x) ** 2 + (after[\"ry-hotpink\"] - center_y) ** 2)\n",
    "after[\"r_weight\"] = np.sqrt((after[\"rx-lightorange\"] - center_x) ** 2 + (after[\"ry-lightorange\"] - center_y) ** 2)\n",
    "after[\"I_weight\"] = m_weight * after[\"r_weight\"] ** 2 + 1.32 * 10 ** -6\n",
    "\n",
    "diff_after = after.diff().fillna(1)\n",
    "diff_before = before.diff().fillna(1)\n",
    "\n",
    "diff_before = diff_before.drop(diff_before[diff_before[\"timestamp\"] == 0].index)\n",
    "\n",
    "before[\"v_tan\"] = np.sqrt(diff_before[\"rx-hotpink\"] ** 2 + diff_before[\"ry-hotpink\"] ** 2) / diff_before[\"timestamp\"] * 1000\n",
    "before[\"w\"] = before[\"v_tan\"] / before[\"r_l\"]\n",
    "after[\"v_tan\"] = np.sqrt(diff_after[\"rx-hotpink\"] ** 2 + diff_after[\"ry-hotpink\"] ** 2) / diff_after[\"timestamp\"] * 1000\n",
    "after[\"w\"] = after[\"v_tan\"] / after[\"r_l\"]\n",
    "\n",
    "before, after = before.iloc[1:-1] , after.iloc[1:-1]\n",
    "\n",
    "w_before, w_before_uncert = np.average(before[\"w\"].dropna()), uncertainty(before[\"w\"].dropna())\n",
    "w_after, w_after_uncert = np.average(after[\"w\"].dropna()), uncertainty(after[\"w\"].dropna())\n",
    "I_weight = np.average(after[\"I_weight\"])\n",
    "\n",
    "print(\"Avg angular velocity before: \", w_before, \". uncertainty: \", uncertainty(before[\"w\"].dropna()))\n",
    "print(\"Avg angular velocity after: \", w_after, \". uncertainty: \", uncertainty(after[\"w\"].dropna()))\n",
    "print(\"Avg intertia of the weight: \", I_weight)\n",
    "\n",
    "I_o = (w_after * I_weight) / (w_before - w_after)\n",
    "I_o_uncert = (w_after_uncert * I_weight) / (w_before - w_after)\n",
    "\n",
    "print(\"Average intertial of the object: \", I_o, \". uncertainty: \", I_o_uncert)"
   ]
  }
 ],
 "metadata": {
  "kernelspec": {
   "display_name": "Python 3",
   "language": "python",
   "name": "python3"
  },
  "language_info": {
   "codemirror_mode": {
    "name": "ipython",
    "version": 3
   },
   "file_extension": ".py",
   "mimetype": "text/x-python",
   "name": "python",
   "nbconvert_exporter": "python",
   "pygments_lexer": "ipython3",
   "version": "3.10.12"
  },
  "orig_nbformat": 4
 },
 "nbformat": 4,
 "nbformat_minor": 2
}
